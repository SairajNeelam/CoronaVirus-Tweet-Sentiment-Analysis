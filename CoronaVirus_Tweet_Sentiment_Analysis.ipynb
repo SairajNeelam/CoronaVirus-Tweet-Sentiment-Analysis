{
  "nbformat": 4,
  "nbformat_minor": 0,
  "metadata": {
    "colab": {
      "name": "CoronaVirus Tweet Sentiment Analysis.ipynb",
      "provenance": [],
      "authorship_tag": "ABX9TyPI+YIiKNhkfF8RNuyboOc7",
      "include_colab_link": true
    },
    "kernelspec": {
      "name": "python3",
      "display_name": "Python 3"
    },
    "language_info": {
      "name": "python"
    }
  },
  "cells": [
    {
      "cell_type": "markdown",
      "metadata": {
        "id": "view-in-github",
        "colab_type": "text"
      },
      "source": [
        "<a href=\"https://colab.research.google.com/github/SairajNeelam/CoronaVirus-Tweet-Sentiment-Analysis/blob/main/CoronaVirus_Tweet_Sentiment_Analysis.ipynb\" target=\"_parent\"><img src=\"https://colab.research.google.com/assets/colab-badge.svg\" alt=\"Open In Colab\"/></a>"
      ]
    },
    {
      "cell_type": "code",
      "execution_count": null,
      "metadata": {
        "id": "nwfFWC-YJ4x-"
      },
      "outputs": [],
      "source": [
        ""
      ]
    },
    {
      "cell_type": "markdown",
      "source": [
        "## ***Problem Statement***\n",
        "\n",
        "> **We have to build a classification model to predict the sentiment of Covid-19 tweets**.\n",
        "\n",
        "\n",
        "\n"
      ],
      "metadata": {
        "id": "-iFIc_8wKHzg"
      }
    },
    {
      "cell_type": "markdown",
      "source": [
        "### **What is sentiment analysis?**\n",
        "**Sentiment analysis, also known as opinion mining, or emotion AI, boils down to one thing:**\n",
        "\n",
        "> **It’s the process of analyzing online pieces of writing to determine the emotional tone they carry, whether they’re positive, negative, or neutral.**\n",
        "\n",
        ">**In simple words, sentiment analysis helps to find the author’s attitude towards a topic. Sentiment analysis tools categorize pieces of writing as positive, neutral, or negative**."
      ],
      "metadata": {
        "id": "OPUFdH7PKM8Q"
      }
    },
    {
      "cell_type": "markdown",
      "source": [
        "### **Why sentiment analysis is important?**\n",
        "\n",
        "1. **Sentiment analysis is important because emotions and attitudes towards a topic can become actionable pieces of information useful in numerous areas of business and research.**\n",
        "2. **Text analytics and opinion mining find numerous applications in e-commerce, marketing, advertising, politics, market research and any other research, which is very helpful for businesses.**\n",
        "3. **It saves time and effort. Assessing the tone they carry manually is doable, but takes ages.**"
      ],
      "metadata": {
        "id": "CqYoGgIkMRFN"
      }
    },
    {
      "cell_type": "markdown",
      "source": [
        ""
      ],
      "metadata": {
        "id": "PrSYYvV5N-sn"
      }
    }
  ]
}